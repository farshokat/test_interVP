{
  "nbformat": 4,
  "nbformat_minor": 0,
  "metadata": {
    "colab": {
      "name": "Untitled17.ipynb",
      "provenance": [],
      "collapsed_sections": []
    },
    "kernelspec": {
      "name": "python3",
      "display_name": "Python 3"
    }
  },
  "cells": [
    {
      "cell_type": "code",
      "metadata": {
        "id": "G9HXph1N4jNJ"
      },
      "source": [
        "import pandas as pd\r\n",
        "import numpy as np\r\n",
        "from sklearn import preprocessing"
      ],
      "execution_count": 64,
      "outputs": []
    },
    {
      "cell_type": "code",
      "metadata": {
        "colab": {
          "base_uri": "https://localhost:8080/"
        },
        "id": "4oDyzmr38yvP",
        "outputId": "8f90e672-e860-48a5-f2d5-2fbd22bfccf0"
      },
      "source": [
        "data_df = pd.read_excel(\"dataVP.xlsx\")\r\n",
        "data_df.shape"
      ],
      "execution_count": 27,
      "outputs": [
        {
          "output_type": "execute_result",
          "data": {
            "text/plain": [
              "(100, 158)"
            ]
          },
          "metadata": {
            "tags": []
          },
          "execution_count": 27
        }
      ]
    },
    {
      "cell_type": "code",
      "metadata": {
        "colab": {
          "base_uri": "https://localhost:8080/"
        },
        "id": "raBV7hn8D32e",
        "outputId": "9d4546ea-4630-4c8a-91e5-5ea8aadaf88f"
      },
      "source": [
        "data_df.info()"
      ],
      "execution_count": 29,
      "outputs": [
        {
          "output_type": "stream",
          "text": [
            "<class 'pandas.core.frame.DataFrame'>\n",
            "RangeIndex: 100 entries, 0 to 99\n",
            "Columns: 158 entries, Business_Date to D_of_Month\n",
            "dtypes: datetime64[ns](3), float64(139), int64(15), object(1)\n",
            "memory usage: 123.6+ KB\n"
          ],
          "name": "stdout"
        }
      ]
    },
    {
      "cell_type": "code",
      "metadata": {
        "id": "qtVPeQ8ZBa-8"
      },
      "source": [
        "data = data_df[['Business_Date', 'Max_Dpd_L2M', 'Max_Ovd', 'N_Dpd_0105_Frm_Cur_L6M', 'Max_Dpd_L6M', 'Avg_Dpd_L6M', 'Avg_Dpd_Cont_L6M', 'Max_Dpd_L1M', 'Term', 'Avg_Dpd_L2M', 'Avg_Dpd_L3M']]"
      ],
      "execution_count": 81,
      "outputs": []
    },
    {
      "cell_type": "code",
      "metadata": {
        "colab": {
          "base_uri": "https://localhost:8080/"
        },
        "id": "R7Tb56AlM_oc",
        "outputId": "ded019c8-2150-437f-ba77-008438b2e554"
      },
      "source": [
        "data.info()"
      ],
      "execution_count": 82,
      "outputs": [
        {
          "output_type": "stream",
          "text": [
            "<class 'pandas.core.frame.DataFrame'>\n",
            "RangeIndex: 100 entries, 0 to 99\n",
            "Data columns (total 11 columns):\n",
            " #   Column                  Non-Null Count  Dtype         \n",
            "---  ------                  --------------  -----         \n",
            " 0   Business_Date           100 non-null    datetime64[ns]\n",
            " 1   Max_Dpd_L2M             83 non-null     float64       \n",
            " 2   Max_Ovd                 100 non-null    int64         \n",
            " 3   N_Dpd_0105_Frm_Cur_L6M  87 non-null     float64       \n",
            " 4   Max_Dpd_L6M             94 non-null     float64       \n",
            " 5   Avg_Dpd_L6M             94 non-null     float64       \n",
            " 6   Avg_Dpd_Cont_L6M        91 non-null     float64       \n",
            " 7   Max_Dpd_L1M             72 non-null     float64       \n",
            " 8   Term                    100 non-null    int64         \n",
            " 9   Avg_Dpd_L2M             83 non-null     float64       \n",
            " 10  Avg_Dpd_L3M             90 non-null     float64       \n",
            "dtypes: datetime64[ns](1), float64(8), int64(2)\n",
            "memory usage: 8.7 KB\n"
          ],
          "name": "stdout"
        }
      ]
    },
    {
      "cell_type": "code",
      "metadata": {
        "colab": {
          "base_uri": "https://localhost:8080/",
          "height": 439
        },
        "id": "LYelgj_eZUO5",
        "outputId": "def0882d-7bd3-4212-9a10-e97cc2bdaf69"
      },
      "source": [
        "data.head(100)"
      ],
      "execution_count": 83,
      "outputs": [
        {
          "output_type": "execute_result",
          "data": {
            "text/html": [
              "<div>\n",
              "<style scoped>\n",
              "    .dataframe tbody tr th:only-of-type {\n",
              "        vertical-align: middle;\n",
              "    }\n",
              "\n",
              "    .dataframe tbody tr th {\n",
              "        vertical-align: top;\n",
              "    }\n",
              "\n",
              "    .dataframe thead th {\n",
              "        text-align: right;\n",
              "    }\n",
              "</style>\n",
              "<table border=\"1\" class=\"dataframe\">\n",
              "  <thead>\n",
              "    <tr style=\"text-align: right;\">\n",
              "      <th></th>\n",
              "      <th>Business_Date</th>\n",
              "      <th>Max_Dpd_L2M</th>\n",
              "      <th>Max_Ovd</th>\n",
              "      <th>N_Dpd_0105_Frm_Cur_L6M</th>\n",
              "      <th>Max_Dpd_L6M</th>\n",
              "      <th>Avg_Dpd_L6M</th>\n",
              "      <th>Avg_Dpd_Cont_L6M</th>\n",
              "      <th>Max_Dpd_L1M</th>\n",
              "      <th>Term</th>\n",
              "      <th>Avg_Dpd_L2M</th>\n",
              "      <th>Avg_Dpd_L3M</th>\n",
              "    </tr>\n",
              "  </thead>\n",
              "  <tbody>\n",
              "    <tr>\n",
              "      <th>0</th>\n",
              "      <td>2019-09-16</td>\n",
              "      <td>52.0</td>\n",
              "      <td>16</td>\n",
              "      <td>1.0</td>\n",
              "      <td>63.0</td>\n",
              "      <td>32.0</td>\n",
              "      <td>52.0</td>\n",
              "      <td>NaN</td>\n",
              "      <td>60</td>\n",
              "      <td>52.0</td>\n",
              "      <td>31.0</td>\n",
              "    </tr>\n",
              "    <tr>\n",
              "      <th>1</th>\n",
              "      <td>2019-09-16</td>\n",
              "      <td>1.0</td>\n",
              "      <td>4</td>\n",
              "      <td>5.0</td>\n",
              "      <td>3.0</td>\n",
              "      <td>1.0</td>\n",
              "      <td>1.0</td>\n",
              "      <td>NaN</td>\n",
              "      <td>60</td>\n",
              "      <td>1.0</td>\n",
              "      <td>1.0</td>\n",
              "    </tr>\n",
              "    <tr>\n",
              "      <th>2</th>\n",
              "      <td>2019-09-16</td>\n",
              "      <td>14.0</td>\n",
              "      <td>11</td>\n",
              "      <td>2.0</td>\n",
              "      <td>22.0</td>\n",
              "      <td>9.0</td>\n",
              "      <td>9.0</td>\n",
              "      <td>14.0</td>\n",
              "      <td>72</td>\n",
              "      <td>7.0</td>\n",
              "      <td>8.0</td>\n",
              "    </tr>\n",
              "    <tr>\n",
              "      <th>3</th>\n",
              "      <td>2019-09-16</td>\n",
              "      <td>4.0</td>\n",
              "      <td>3</td>\n",
              "      <td>12.0</td>\n",
              "      <td>13.0</td>\n",
              "      <td>3.0</td>\n",
              "      <td>6.0</td>\n",
              "      <td>4.0</td>\n",
              "      <td>72</td>\n",
              "      <td>2.0</td>\n",
              "      <td>2.0</td>\n",
              "    </tr>\n",
              "    <tr>\n",
              "      <th>4</th>\n",
              "      <td>2019-09-16</td>\n",
              "      <td>1.0</td>\n",
              "      <td>1</td>\n",
              "      <td>8.0</td>\n",
              "      <td>2.0</td>\n",
              "      <td>1.0</td>\n",
              "      <td>1.0</td>\n",
              "      <td>1.0</td>\n",
              "      <td>72</td>\n",
              "      <td>1.0</td>\n",
              "      <td>1.0</td>\n",
              "    </tr>\n",
              "    <tr>\n",
              "      <th>...</th>\n",
              "      <td>...</td>\n",
              "      <td>...</td>\n",
              "      <td>...</td>\n",
              "      <td>...</td>\n",
              "      <td>...</td>\n",
              "      <td>...</td>\n",
              "      <td>...</td>\n",
              "      <td>...</td>\n",
              "      <td>...</td>\n",
              "      <td>...</td>\n",
              "      <td>...</td>\n",
              "    </tr>\n",
              "    <tr>\n",
              "      <th>95</th>\n",
              "      <td>2019-09-16</td>\n",
              "      <td>7.0</td>\n",
              "      <td>7</td>\n",
              "      <td>6.0</td>\n",
              "      <td>7.0</td>\n",
              "      <td>4.0</td>\n",
              "      <td>4.0</td>\n",
              "      <td>7.0</td>\n",
              "      <td>240</td>\n",
              "      <td>6.0</td>\n",
              "      <td>4.0</td>\n",
              "    </tr>\n",
              "    <tr>\n",
              "      <th>96</th>\n",
              "      <td>2019-09-16</td>\n",
              "      <td>1.0</td>\n",
              "      <td>3</td>\n",
              "      <td>3.0</td>\n",
              "      <td>5.0</td>\n",
              "      <td>2.0</td>\n",
              "      <td>2.0</td>\n",
              "      <td>1.0</td>\n",
              "      <td>85</td>\n",
              "      <td>1.0</td>\n",
              "      <td>3.0</td>\n",
              "    </tr>\n",
              "    <tr>\n",
              "      <th>97</th>\n",
              "      <td>2019-09-16</td>\n",
              "      <td>NaN</td>\n",
              "      <td>1</td>\n",
              "      <td>2.0</td>\n",
              "      <td>9.0</td>\n",
              "      <td>6.0</td>\n",
              "      <td>6.0</td>\n",
              "      <td>NaN</td>\n",
              "      <td>36</td>\n",
              "      <td>NaN</td>\n",
              "      <td>2.0</td>\n",
              "    </tr>\n",
              "    <tr>\n",
              "      <th>98</th>\n",
              "      <td>2019-09-16</td>\n",
              "      <td>2.0</td>\n",
              "      <td>7</td>\n",
              "      <td>6.0</td>\n",
              "      <td>4.0</td>\n",
              "      <td>2.0</td>\n",
              "      <td>2.0</td>\n",
              "      <td>1.0</td>\n",
              "      <td>12</td>\n",
              "      <td>1.0</td>\n",
              "      <td>1.0</td>\n",
              "    </tr>\n",
              "    <tr>\n",
              "      <th>99</th>\n",
              "      <td>2019-09-16</td>\n",
              "      <td>4.0</td>\n",
              "      <td>3</td>\n",
              "      <td>3.0</td>\n",
              "      <td>4.0</td>\n",
              "      <td>3.0</td>\n",
              "      <td>3.0</td>\n",
              "      <td>4.0</td>\n",
              "      <td>60</td>\n",
              "      <td>4.0</td>\n",
              "      <td>4.0</td>\n",
              "    </tr>\n",
              "  </tbody>\n",
              "</table>\n",
              "<p>100 rows × 11 columns</p>\n",
              "</div>"
            ],
            "text/plain": [
              "   Business_Date  Max_Dpd_L2M  Max_Ovd  ...  Term  Avg_Dpd_L2M  Avg_Dpd_L3M\n",
              "0     2019-09-16         52.0       16  ...    60         52.0         31.0\n",
              "1     2019-09-16          1.0        4  ...    60          1.0          1.0\n",
              "2     2019-09-16         14.0       11  ...    72          7.0          8.0\n",
              "3     2019-09-16          4.0        3  ...    72          2.0          2.0\n",
              "4     2019-09-16          1.0        1  ...    72          1.0          1.0\n",
              "..           ...          ...      ...  ...   ...          ...          ...\n",
              "95    2019-09-16          7.0        7  ...   240          6.0          4.0\n",
              "96    2019-09-16          1.0        3  ...    85          1.0          3.0\n",
              "97    2019-09-16          NaN        1  ...    36          NaN          2.0\n",
              "98    2019-09-16          2.0        7  ...    12          1.0          1.0\n",
              "99    2019-09-16          4.0        3  ...    60          4.0          4.0\n",
              "\n",
              "[100 rows x 11 columns]"
            ]
          },
          "metadata": {
            "tags": []
          },
          "execution_count": 83
        }
      ]
    },
    {
      "cell_type": "code",
      "metadata": {
        "colab": {
          "base_uri": "https://localhost:8080/",
          "height": 317
        },
        "id": "0R2I2z-HO6OZ",
        "outputId": "9880850b-0cc5-4f7c-ad81-9431820a2390"
      },
      "source": [
        "data.describe()"
      ],
      "execution_count": 84,
      "outputs": [
        {
          "output_type": "execute_result",
          "data": {
            "text/html": [
              "<div>\n",
              "<style scoped>\n",
              "    .dataframe tbody tr th:only-of-type {\n",
              "        vertical-align: middle;\n",
              "    }\n",
              "\n",
              "    .dataframe tbody tr th {\n",
              "        vertical-align: top;\n",
              "    }\n",
              "\n",
              "    .dataframe thead th {\n",
              "        text-align: right;\n",
              "    }\n",
              "</style>\n",
              "<table border=\"1\" class=\"dataframe\">\n",
              "  <thead>\n",
              "    <tr style=\"text-align: right;\">\n",
              "      <th></th>\n",
              "      <th>Max_Dpd_L2M</th>\n",
              "      <th>Max_Ovd</th>\n",
              "      <th>N_Dpd_0105_Frm_Cur_L6M</th>\n",
              "      <th>Max_Dpd_L6M</th>\n",
              "      <th>Avg_Dpd_L6M</th>\n",
              "      <th>Avg_Dpd_Cont_L6M</th>\n",
              "      <th>Max_Dpd_L1M</th>\n",
              "      <th>Term</th>\n",
              "      <th>Avg_Dpd_L2M</th>\n",
              "      <th>Avg_Dpd_L3M</th>\n",
              "    </tr>\n",
              "  </thead>\n",
              "  <tbody>\n",
              "    <tr>\n",
              "      <th>count</th>\n",
              "      <td>83.000000</td>\n",
              "      <td>100.000000</td>\n",
              "      <td>87.000000</td>\n",
              "      <td>94.000000</td>\n",
              "      <td>94.000000</td>\n",
              "      <td>91.000000</td>\n",
              "      <td>72.000000</td>\n",
              "      <td>100.000000</td>\n",
              "      <td>83.000000</td>\n",
              "      <td>90.000000</td>\n",
              "    </tr>\n",
              "    <tr>\n",
              "      <th>mean</th>\n",
              "      <td>8.626506</td>\n",
              "      <td>6.930000</td>\n",
              "      <td>4.896552</td>\n",
              "      <td>10.127660</td>\n",
              "      <td>5.010638</td>\n",
              "      <td>5.120879</td>\n",
              "      <td>7.652778</td>\n",
              "      <td>74.910000</td>\n",
              "      <td>6.240964</td>\n",
              "      <td>5.633333</td>\n",
              "    </tr>\n",
              "    <tr>\n",
              "      <th>std</th>\n",
              "      <td>11.264785</td>\n",
              "      <td>12.793034</td>\n",
              "      <td>4.270054</td>\n",
              "      <td>12.308956</td>\n",
              "      <td>5.835550</td>\n",
              "      <td>6.945558</td>\n",
              "      <td>9.411051</td>\n",
              "      <td>52.548601</td>\n",
              "      <td>8.828433</td>\n",
              "      <td>6.839163</td>\n",
              "    </tr>\n",
              "    <tr>\n",
              "      <th>min</th>\n",
              "      <td>1.000000</td>\n",
              "      <td>1.000000</td>\n",
              "      <td>1.000000</td>\n",
              "      <td>1.000000</td>\n",
              "      <td>1.000000</td>\n",
              "      <td>1.000000</td>\n",
              "      <td>1.000000</td>\n",
              "      <td>12.000000</td>\n",
              "      <td>1.000000</td>\n",
              "      <td>1.000000</td>\n",
              "    </tr>\n",
              "    <tr>\n",
              "      <th>25%</th>\n",
              "      <td>3.000000</td>\n",
              "      <td>1.000000</td>\n",
              "      <td>2.000000</td>\n",
              "      <td>3.000000</td>\n",
              "      <td>2.000000</td>\n",
              "      <td>2.000000</td>\n",
              "      <td>3.000000</td>\n",
              "      <td>36.000000</td>\n",
              "      <td>2.000000</td>\n",
              "      <td>2.000000</td>\n",
              "    </tr>\n",
              "    <tr>\n",
              "      <th>50%</th>\n",
              "      <td>6.000000</td>\n",
              "      <td>3.000000</td>\n",
              "      <td>3.000000</td>\n",
              "      <td>6.000000</td>\n",
              "      <td>3.000000</td>\n",
              "      <td>3.000000</td>\n",
              "      <td>5.000000</td>\n",
              "      <td>60.000000</td>\n",
              "      <td>4.000000</td>\n",
              "      <td>3.000000</td>\n",
              "    </tr>\n",
              "    <tr>\n",
              "      <th>75%</th>\n",
              "      <td>9.000000</td>\n",
              "      <td>7.000000</td>\n",
              "      <td>6.000000</td>\n",
              "      <td>10.000000</td>\n",
              "      <td>6.000000</td>\n",
              "      <td>6.000000</td>\n",
              "      <td>8.000000</td>\n",
              "      <td>84.000000</td>\n",
              "      <td>6.000000</td>\n",
              "      <td>6.000000</td>\n",
              "    </tr>\n",
              "    <tr>\n",
              "      <th>max</th>\n",
              "      <td>61.000000</td>\n",
              "      <td>89.000000</td>\n",
              "      <td>23.000000</td>\n",
              "      <td>63.000000</td>\n",
              "      <td>32.000000</td>\n",
              "      <td>52.000000</td>\n",
              "      <td>51.000000</td>\n",
              "      <td>300.000000</td>\n",
              "      <td>52.000000</td>\n",
              "      <td>34.000000</td>\n",
              "    </tr>\n",
              "  </tbody>\n",
              "</table>\n",
              "</div>"
            ],
            "text/plain": [
              "       Max_Dpd_L2M     Max_Ovd  ...  Avg_Dpd_L2M  Avg_Dpd_L3M\n",
              "count    83.000000  100.000000  ...    83.000000    90.000000\n",
              "mean      8.626506    6.930000  ...     6.240964     5.633333\n",
              "std      11.264785   12.793034  ...     8.828433     6.839163\n",
              "min       1.000000    1.000000  ...     1.000000     1.000000\n",
              "25%       3.000000    1.000000  ...     2.000000     2.000000\n",
              "50%       6.000000    3.000000  ...     4.000000     3.000000\n",
              "75%       9.000000    7.000000  ...     6.000000     6.000000\n",
              "max      61.000000   89.000000  ...    52.000000    34.000000\n",
              "\n",
              "[8 rows x 10 columns]"
            ]
          },
          "metadata": {
            "tags": []
          },
          "execution_count": 84
        }
      ]
    },
    {
      "cell_type": "code",
      "metadata": {
        "id": "Lr8ynrL7hVrs"
      },
      "source": [
        "from sklearn.preprocessing import MinMaxScaler"
      ],
      "execution_count": 70,
      "outputs": []
    },
    {
      "cell_type": "code",
      "metadata": {
        "id": "jrbnW3nBhuGy"
      },
      "source": [
        "minmax = MinMaxScaler()\r\n",
        "data_tf = minmax.fit_transform(data)"
      ],
      "execution_count": 77,
      "outputs": []
    },
    {
      "cell_type": "code",
      "metadata": {
        "id": "ul8nN8ZFmvs4"
      },
      "source": [
        "data1 = pd.DataFrame(data_tf, columns=['Max_Dpd_L2M','Max_Ovd','N_Dpd_0105_Frm_Cur_L6M','Max_Dpd_L6M','Avg_Dpd_L6M','Avg_Dpd_Cont_L6M','Max_Dpd_L1M','Term','Avg_Dpd_L2M','Avg_Dpd_L3M'])"
      ],
      "execution_count": 135,
      "outputs": []
    },
    {
      "cell_type": "code",
      "metadata": {
        "colab": {
          "base_uri": "https://localhost:8080/",
          "height": 439
        },
        "id": "cQjO7rySnqLc",
        "outputId": "479e631d-afd4-4bab-b2e1-a9c1561cb048"
      },
      "source": [
        "data1.head(100)"
      ],
      "execution_count": 80,
      "outputs": [
        {
          "output_type": "execute_result",
          "data": {
            "text/html": [
              "<div>\n",
              "<style scoped>\n",
              "    .dataframe tbody tr th:only-of-type {\n",
              "        vertical-align: middle;\n",
              "    }\n",
              "\n",
              "    .dataframe tbody tr th {\n",
              "        vertical-align: top;\n",
              "    }\n",
              "\n",
              "    .dataframe thead th {\n",
              "        text-align: right;\n",
              "    }\n",
              "</style>\n",
              "<table border=\"1\" class=\"dataframe\">\n",
              "  <thead>\n",
              "    <tr style=\"text-align: right;\">\n",
              "      <th></th>\n",
              "      <th>Max_Dpd_L2M</th>\n",
              "      <th>Max_Ovd</th>\n",
              "      <th>N_Dpd_0105_Frm_Cur_L6M</th>\n",
              "      <th>Max_Dpd_L6M</th>\n",
              "      <th>Avg_Dpd_L6M</th>\n",
              "      <th>Avg_Dpd_Cont_L6M</th>\n",
              "      <th>Max_Dpd_L1M</th>\n",
              "      <th>Term</th>\n",
              "      <th>Avg_Dpd_L2M</th>\n",
              "      <th>Avg_Dpd_L3M</th>\n",
              "    </tr>\n",
              "  </thead>\n",
              "  <tbody>\n",
              "    <tr>\n",
              "      <th>0</th>\n",
              "      <td>0.850000</td>\n",
              "      <td>0.170455</td>\n",
              "      <td>0.000000</td>\n",
              "      <td>1.000000</td>\n",
              "      <td>1.000000</td>\n",
              "      <td>1.000000</td>\n",
              "      <td>NaN</td>\n",
              "      <td>0.166667</td>\n",
              "      <td>1.000000</td>\n",
              "      <td>0.909091</td>\n",
              "    </tr>\n",
              "    <tr>\n",
              "      <th>1</th>\n",
              "      <td>0.000000</td>\n",
              "      <td>0.034091</td>\n",
              "      <td>0.181818</td>\n",
              "      <td>0.032258</td>\n",
              "      <td>0.000000</td>\n",
              "      <td>0.000000</td>\n",
              "      <td>NaN</td>\n",
              "      <td>0.166667</td>\n",
              "      <td>0.000000</td>\n",
              "      <td>0.000000</td>\n",
              "    </tr>\n",
              "    <tr>\n",
              "      <th>2</th>\n",
              "      <td>0.216667</td>\n",
              "      <td>0.113636</td>\n",
              "      <td>0.045455</td>\n",
              "      <td>0.338710</td>\n",
              "      <td>0.258065</td>\n",
              "      <td>0.156863</td>\n",
              "      <td>0.26</td>\n",
              "      <td>0.208333</td>\n",
              "      <td>0.117647</td>\n",
              "      <td>0.212121</td>\n",
              "    </tr>\n",
              "    <tr>\n",
              "      <th>3</th>\n",
              "      <td>0.050000</td>\n",
              "      <td>0.022727</td>\n",
              "      <td>0.500000</td>\n",
              "      <td>0.193548</td>\n",
              "      <td>0.064516</td>\n",
              "      <td>0.098039</td>\n",
              "      <td>0.06</td>\n",
              "      <td>0.208333</td>\n",
              "      <td>0.019608</td>\n",
              "      <td>0.030303</td>\n",
              "    </tr>\n",
              "    <tr>\n",
              "      <th>4</th>\n",
              "      <td>0.000000</td>\n",
              "      <td>0.000000</td>\n",
              "      <td>0.318182</td>\n",
              "      <td>0.016129</td>\n",
              "      <td>0.000000</td>\n",
              "      <td>0.000000</td>\n",
              "      <td>0.00</td>\n",
              "      <td>0.208333</td>\n",
              "      <td>0.000000</td>\n",
              "      <td>0.000000</td>\n",
              "    </tr>\n",
              "    <tr>\n",
              "      <th>...</th>\n",
              "      <td>...</td>\n",
              "      <td>...</td>\n",
              "      <td>...</td>\n",
              "      <td>...</td>\n",
              "      <td>...</td>\n",
              "      <td>...</td>\n",
              "      <td>...</td>\n",
              "      <td>...</td>\n",
              "      <td>...</td>\n",
              "      <td>...</td>\n",
              "    </tr>\n",
              "    <tr>\n",
              "      <th>95</th>\n",
              "      <td>0.100000</td>\n",
              "      <td>0.068182</td>\n",
              "      <td>0.227273</td>\n",
              "      <td>0.096774</td>\n",
              "      <td>0.096774</td>\n",
              "      <td>0.058824</td>\n",
              "      <td>0.12</td>\n",
              "      <td>0.791667</td>\n",
              "      <td>0.098039</td>\n",
              "      <td>0.090909</td>\n",
              "    </tr>\n",
              "    <tr>\n",
              "      <th>96</th>\n",
              "      <td>0.000000</td>\n",
              "      <td>0.022727</td>\n",
              "      <td>0.090909</td>\n",
              "      <td>0.064516</td>\n",
              "      <td>0.032258</td>\n",
              "      <td>0.019608</td>\n",
              "      <td>0.00</td>\n",
              "      <td>0.253472</td>\n",
              "      <td>0.000000</td>\n",
              "      <td>0.060606</td>\n",
              "    </tr>\n",
              "    <tr>\n",
              "      <th>97</th>\n",
              "      <td>NaN</td>\n",
              "      <td>0.000000</td>\n",
              "      <td>0.045455</td>\n",
              "      <td>0.129032</td>\n",
              "      <td>0.161290</td>\n",
              "      <td>0.098039</td>\n",
              "      <td>NaN</td>\n",
              "      <td>0.083333</td>\n",
              "      <td>NaN</td>\n",
              "      <td>0.030303</td>\n",
              "    </tr>\n",
              "    <tr>\n",
              "      <th>98</th>\n",
              "      <td>0.016667</td>\n",
              "      <td>0.068182</td>\n",
              "      <td>0.227273</td>\n",
              "      <td>0.048387</td>\n",
              "      <td>0.032258</td>\n",
              "      <td>0.019608</td>\n",
              "      <td>0.00</td>\n",
              "      <td>0.000000</td>\n",
              "      <td>0.000000</td>\n",
              "      <td>0.000000</td>\n",
              "    </tr>\n",
              "    <tr>\n",
              "      <th>99</th>\n",
              "      <td>0.050000</td>\n",
              "      <td>0.022727</td>\n",
              "      <td>0.090909</td>\n",
              "      <td>0.048387</td>\n",
              "      <td>0.064516</td>\n",
              "      <td>0.039216</td>\n",
              "      <td>0.06</td>\n",
              "      <td>0.166667</td>\n",
              "      <td>0.058824</td>\n",
              "      <td>0.090909</td>\n",
              "    </tr>\n",
              "  </tbody>\n",
              "</table>\n",
              "<p>100 rows × 10 columns</p>\n",
              "</div>"
            ],
            "text/plain": [
              "    Max_Dpd_L2M   Max_Ovd  ...  Avg_Dpd_L2M  Avg_Dpd_L3M\n",
              "0      0.850000  0.170455  ...     1.000000     0.909091\n",
              "1      0.000000  0.034091  ...     0.000000     0.000000\n",
              "2      0.216667  0.113636  ...     0.117647     0.212121\n",
              "3      0.050000  0.022727  ...     0.019608     0.030303\n",
              "4      0.000000  0.000000  ...     0.000000     0.000000\n",
              "..          ...       ...  ...          ...          ...\n",
              "95     0.100000  0.068182  ...     0.098039     0.090909\n",
              "96     0.000000  0.022727  ...     0.000000     0.060606\n",
              "97          NaN  0.000000  ...          NaN     0.030303\n",
              "98     0.016667  0.068182  ...     0.000000     0.000000\n",
              "99     0.050000  0.022727  ...     0.058824     0.090909\n",
              "\n",
              "[100 rows x 10 columns]"
            ]
          },
          "metadata": {
            "tags": []
          },
          "execution_count": 80
        }
      ]
    },
    {
      "cell_type": "code",
      "metadata": {
        "colab": {
          "base_uri": "https://localhost:8080/"
        },
        "id": "KY96dmCrjZuu",
        "outputId": "85fd7b35-8170-492c-fff6-2614ac6d1b76"
      },
      "source": [
        "data2 = data_df['Business_Date']\r\n",
        "data2"
      ],
      "execution_count": 180,
      "outputs": [
        {
          "output_type": "execute_result",
          "data": {
            "text/plain": [
              "0    2019-09-16\n",
              "1    2019-09-16\n",
              "2    2019-09-16\n",
              "3    2019-09-16\n",
              "4    2019-09-16\n",
              "        ...    \n",
              "95   2019-09-16\n",
              "96   2019-09-16\n",
              "97   2019-09-16\n",
              "98   2019-09-16\n",
              "99   2019-09-16\n",
              "Name: Business_Date, Length: 100, dtype: datetime64[ns]"
            ]
          },
          "metadata": {
            "tags": []
          },
          "execution_count": 180
        }
      ]
    },
    {
      "cell_type": "code",
      "metadata": {
        "id": "nOqL-rzLVeDh"
      },
      "source": [
        "data1.to_excel(\"outputusingSklearn.xlsx\")"
      ],
      "execution_count": 133,
      "outputs": []
    },
    {
      "cell_type": "code",
      "metadata": {
        "colab": {
          "base_uri": "https://localhost:8080/"
        },
        "id": "wIu-UrNXoq_4",
        "outputId": "63d96e5a-4d86-4f17-d98a-addb47191035"
      },
      "source": [
        "mins = [data[col].min() for col in data.columns]\r\n",
        "mins"
      ],
      "execution_count": 86,
      "outputs": [
        {
          "output_type": "execute_result",
          "data": {
            "text/plain": [
              "[Timestamp('2019-09-16 00:00:00'),\n",
              " 1.0,\n",
              " 1,\n",
              " 1.0,\n",
              " 1.0,\n",
              " 1.0,\n",
              " 1.0,\n",
              " 1.0,\n",
              " 12,\n",
              " 1.0,\n",
              " 1.0]"
            ]
          },
          "metadata": {
            "tags": []
          },
          "execution_count": 86
        }
      ]
    },
    {
      "cell_type": "code",
      "metadata": {
        "colab": {
          "base_uri": "https://localhost:8080/"
        },
        "id": "W_iGBGwXoA9f",
        "outputId": "53afe107-6322-48e9-fff7-95b848273c8a"
      },
      "source": [
        "maxs = [data[col].max() for col in data.columns]\r\n",
        "maxs"
      ],
      "execution_count": 87,
      "outputs": [
        {
          "output_type": "execute_result",
          "data": {
            "text/plain": [
              "[Timestamp('2019-09-16 00:00:00'),\n",
              " 61.0,\n",
              " 89,\n",
              " 23.0,\n",
              " 63.0,\n",
              " 32.0,\n",
              " 52.0,\n",
              " 51.0,\n",
              " 300,\n",
              " 52.0,\n",
              " 34.0]"
            ]
          },
          "metadata": {
            "tags": []
          },
          "execution_count": 87
        }
      ]
    },
    {
      "cell_type": "code",
      "metadata": {
        "colab": {
          "base_uri": "https://localhost:8080/"
        },
        "id": "lvjS6hhv62ez",
        "outputId": "ad141db1-dafc-4708-fe7c-948003b35d92"
      },
      "source": [
        "Xm = data['Max_Ovd']\r\n",
        "Xm"
      ],
      "execution_count": 103,
      "outputs": [
        {
          "output_type": "execute_result",
          "data": {
            "text/plain": [
              "0     16\n",
              "1      4\n",
              "2     11\n",
              "3      3\n",
              "4      1\n",
              "      ..\n",
              "95     7\n",
              "96     3\n",
              "97     1\n",
              "98     7\n",
              "99     3\n",
              "Name: Max_Ovd, Length: 100, dtype: int64"
            ]
          },
          "metadata": {
            "tags": []
          },
          "execution_count": 103
        }
      ]
    },
    {
      "cell_type": "code",
      "metadata": {
        "colab": {
          "base_uri": "https://localhost:8080/",
          "height": 129
        },
        "id": "ikChh-aV0meE",
        "outputId": "7e2fe912-e112-4b81-a892-5a1a7d285c34"
      },
      "source": [
        "def normalize(data):\r\n",
        "return [round((i- data[col].min()) / ((data[col].max()) - (data[col].min()), 5) for i in data[col]\r\n",
        "              print(normalize(data))"
      ],
      "execution_count": 98,
      "outputs": [
        {
          "output_type": "error",
          "ename": "IndentationError",
          "evalue": "ignored",
          "traceback": [
            "\u001b[0;36m  File \u001b[0;32m\"<ipython-input-98-106a89ee5d40>\"\u001b[0;36m, line \u001b[0;32m2\u001b[0m\n\u001b[0;31m    return [round((i- data[col].min()) / ((data[col].max()) - (data[col].min()), 5) for i in data[col]\u001b[0m\n\u001b[0m         ^\u001b[0m\n\u001b[0;31mIndentationError\u001b[0m\u001b[0;31m:\u001b[0m expected an indented block\n"
          ]
        }
      ]
    },
    {
      "cell_type": "code",
      "metadata": {
        "id": "bQtwBE4sBMH1"
      },
      "source": [
        "X1 = data['Avg_Dpd_Cont_L6M']\r\n",
        "X2 = data['Avg_Dpd_L2M']\r\n",
        "X3 = data['Avg_Dpd_L3M']\r\n",
        "X4 = data['Avg_Dpd_L6M']\r\n",
        "X5 = data['Max_Dpd_L1M']\r\n",
        "X6 = data['Max_Dpd_L2M']\r\n",
        "X7 = data['Max_Dpd_L6M']\r\n",
        "X8 = data['Max_Ovd']\r\n",
        "X9 = data['N_Dpd_0105_Frm_Cur_L6M']\r\n",
        "X10 = data['Term']"
      ],
      "execution_count": 118,
      "outputs": []
    },
    {
      "cell_type": "code",
      "metadata": {
        "id": "jX5NRpXM_2aw"
      },
      "source": [
        "X1_std = (X1 - X1.min(axis=0)) / (X1.max(axis=0) - X1.min(axis=0))\r\n",
        "X2_std = (X2 - X2.min(axis=0)) / (X2.max(axis=0) - X2.min(axis=0))\r\n",
        "X3_std = (X3 - X3.min(axis=0)) / (X3.max(axis=0) - X3.min(axis=0))\r\n",
        "X4_std = (X4 - X4.min(axis=0)) / (X4.max(axis=0) - X4.min(axis=0))\r\n",
        "X5_std = (X5 - X5.min(axis=0)) / (X5.max(axis=0) - X5.min(axis=0))\r\n",
        "X6_std = (X6 - X6.min(axis=0)) / (X6.max(axis=0) - X6.min(axis=0))\r\n",
        "X7_std = (X7 - X7.min(axis=0)) / (X7.max(axis=0) - X7.min(axis=0))\r\n",
        "X8_std = (X8 - X8.min(axis=0)) / (X8.max(axis=0) - X8.min(axis=0))\r\n",
        "X9_std = (X9 - X9.min(axis=0)) / (X9.max(axis=0) - X9.min(axis=0))\r\n",
        "X10_std = (X10 - X10.min(axis=0)) / (X10.max(axis=0) - X10.min(axis=0))"
      ],
      "execution_count": 116,
      "outputs": []
    },
    {
      "cell_type": "code",
      "metadata": {
        "colab": {
          "base_uri": "https://localhost:8080/"
        },
        "id": "Jo-4P3xFKIHU",
        "outputId": "37465d23-4dd5-4c94-ac68-403dc0c9ee34"
      },
      "source": [
        "X1_std"
      ],
      "execution_count": 121,
      "outputs": [
        {
          "output_type": "execute_result",
          "data": {
            "text/plain": [
              "0     1.000000\n",
              "1     0.000000\n",
              "2     0.156863\n",
              "3     0.098039\n",
              "4     0.000000\n",
              "        ...   \n",
              "95    0.058824\n",
              "96    0.019608\n",
              "97    0.098039\n",
              "98    0.019608\n",
              "99    0.039216\n",
              "Name: Avg_Dpd_Cont_L6M, Length: 100, dtype: float64"
            ]
          },
          "metadata": {
            "tags": []
          },
          "execution_count": 121
        }
      ]
    },
    {
      "cell_type": "code",
      "metadata": {
        "colab": {
          "base_uri": "https://localhost:8080/"
        },
        "id": "WeX8y33kKLId",
        "outputId": "60e1a04d-0d2b-4f87-926b-e727f592b02b"
      },
      "source": [
        "X2_std"
      ],
      "execution_count": 122,
      "outputs": [
        {
          "output_type": "execute_result",
          "data": {
            "text/plain": [
              "0     1.000000\n",
              "1     0.000000\n",
              "2     0.117647\n",
              "3     0.019608\n",
              "4     0.000000\n",
              "        ...   \n",
              "95    0.098039\n",
              "96    0.000000\n",
              "97         NaN\n",
              "98    0.000000\n",
              "99    0.058824\n",
              "Name: Avg_Dpd_L2M, Length: 100, dtype: float64"
            ]
          },
          "metadata": {
            "tags": []
          },
          "execution_count": 122
        }
      ]
    },
    {
      "cell_type": "code",
      "metadata": {
        "colab": {
          "base_uri": "https://localhost:8080/"
        },
        "id": "_hnPqDvfIfMl",
        "outputId": "2640dda4-55db-4093-a7d3-081ab35962df"
      },
      "source": [
        "dataout = pd.DataFrame([X1_std, X2_std, X3_std, X4_std, X5_std, X6_std, X7_std, X8_std, X9_std, X10_std])\r\n",
        "print(dataout)"
      ],
      "execution_count": 130,
      "outputs": [
        {
          "output_type": "stream",
          "text": [
            "                              0         1   ...        98        99\n",
            "Avg_Dpd_Cont_L6M        1.000000  0.000000  ...  0.019608  0.039216\n",
            "Avg_Dpd_L2M             1.000000  0.000000  ...  0.000000  0.058824\n",
            "Avg_Dpd_L3M             0.909091  0.000000  ...  0.000000  0.090909\n",
            "Avg_Dpd_L6M             1.000000  0.000000  ...  0.032258  0.064516\n",
            "Max_Dpd_L1M                  NaN       NaN  ...  0.000000  0.060000\n",
            "Max_Dpd_L2M             0.850000  0.000000  ...  0.016667  0.050000\n",
            "Max_Dpd_L6M             1.000000  0.032258  ...  0.048387  0.048387\n",
            "Max_Ovd                 0.170455  0.034091  ...  0.068182  0.022727\n",
            "N_Dpd_0105_Frm_Cur_L6M  0.000000  0.181818  ...  0.227273  0.090909\n",
            "Term                    0.166667  0.166667  ...  0.000000  0.166667\n",
            "\n",
            "[10 rows x 100 columns]\n"
          ],
          "name": "stdout"
        }
      ]
    },
    {
      "cell_type": "code",
      "metadata": {
        "colab": {
          "base_uri": "https://localhost:8080/"
        },
        "id": "jEzcr1QfZbiV",
        "outputId": "c70138e2-0a04-4c68-8dfb-91e6974a507f"
      },
      "source": [
        "dtout = dataout.transpose()\r\n",
        "print(dtout)"
      ],
      "execution_count": 147,
      "outputs": [
        {
          "output_type": "stream",
          "text": [
            "    Avg_Dpd_Cont_L6M  Avg_Dpd_L2M  ...  N_Dpd_0105_Frm_Cur_L6M      Term\n",
            "0           1.000000     1.000000  ...                0.000000  0.166667\n",
            "1           0.000000     0.000000  ...                0.181818  0.166667\n",
            "2           0.156863     0.117647  ...                0.045455  0.208333\n",
            "3           0.098039     0.019608  ...                0.500000  0.208333\n",
            "4           0.000000     0.000000  ...                0.318182  0.208333\n",
            "..               ...          ...  ...                     ...       ...\n",
            "95          0.058824     0.098039  ...                0.227273  0.791667\n",
            "96          0.019608     0.000000  ...                0.090909  0.253472\n",
            "97          0.098039          NaN  ...                0.045455  0.083333\n",
            "98          0.019608     0.000000  ...                0.227273  0.000000\n",
            "99          0.039216     0.058824  ...                0.090909  0.166667\n",
            "\n",
            "[100 rows x 10 columns]\n"
          ],
          "name": "stdout"
        }
      ]
    },
    {
      "cell_type": "code",
      "metadata": {
        "id": "H0KUUvFva4Dc"
      },
      "source": [
        "dtout.to_excel(\"outputnotusingSklearn.xlsx\")"
      ],
      "execution_count": 181,
      "outputs": []
    }
  ]
}